{
 "cells": [
  {
   "cell_type": "code",
   "execution_count": 2,
   "id": "a325b958-b02d-401b-9910-7361464f7865",
   "metadata": {},
   "outputs": [
    {
     "name": "stdout",
     "output_type": "stream",
     "text": [
      "Error importing module: No module named 'crosscat'\n"
     ]
    }
   ],
   "source": [
    "try:\n",
    "    import crosscat.src.cython_code.State as State\n",
    "    import crosscat.src.utils.general_utils as gu\n",
    "    import crosscat.src.utils.inference_utils as iu\n",
    "    print(\"Modules imported successfully\")\n",
    "except ModuleNotFoundError as e:\n",
    "    print(f\"Error importing module: {e}\")\n",
    "except Exception as e:\n",
    "    print(f\"An unexpected error occurred: {e}\")\n"
   ]
  },
  {
   "cell_type": "code",
   "execution_count": null,
   "id": "90834563-5d44-41e5-bce6-e0ac0bb658ce",
   "metadata": {},
   "outputs": [],
   "source": []
  }
 ],
 "metadata": {
  "kernelspec": {
   "display_name": "Python 3 (ipykernel)",
   "language": "python",
   "name": "python3"
  },
  "language_info": {
   "codemirror_mode": {
    "name": "ipython",
    "version": 3
   },
   "file_extension": ".py",
   "mimetype": "text/x-python",
   "name": "python",
   "nbconvert_exporter": "python",
   "pygments_lexer": "ipython3",
   "version": "3.11.5"
  }
 },
 "nbformat": 4,
 "nbformat_minor": 5
}
